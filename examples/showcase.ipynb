{
 "cells": [
  {
   "cell_type": "markdown",
   "metadata": {},
   "source": [
    "# Imports"
   ]
  },
  {
   "cell_type": "code",
   "execution_count": 1,
   "metadata": {
    "ExecuteTime": {
     "end_time": "2018-09-14T08:55:08.561132Z",
     "start_time": "2018-09-14T08:55:07.079472Z"
    }
   },
   "outputs": [],
   "source": [
    "import numpy as np\n",
    "import itertools as itt\n",
    "import tensorflow as tf\n",
    "\n",
    "import numpy.linalg as la\n",
    "\n",
    "import scipy.stats as st\n",
    "import numpy.random as rnd\n",
    "\n",
    "import matplotlib.pyplot as pl\n",
    "%matplotlib inline\n",
    "\n",
    "from importlib import reload\n",
    "\n",
    "import ipywidgets as ipw"
   ]
  },
  {
   "cell_type": "code",
   "execution_count": 2,
   "metadata": {
    "ExecuteTime": {
     "end_time": "2018-09-14T08:55:08.584102Z",
     "start_time": "2018-09-14T08:55:08.561132Z"
    }
   },
   "outputs": [
    {
     "name": "stdout",
     "output_type": "stream",
     "text": [
      "Warning: plotly not installed.\n"
     ]
    }
   ],
   "source": [
    "from polys import Poly, PolyMesh, TaylorGrid\n",
    "from pitf.tf_runnables import run_in_session"
   ]
  },
  {
   "cell_type": "code",
   "execution_count": 3,
   "metadata": {
    "ExecuteTime": {
     "end_time": "2018-09-14T08:55:08.591102Z",
     "start_time": "2018-09-14T08:55:08.585102Z"
    },
    "code_folding": []
   },
   "outputs": [
    {
     "data": {
      "text/html": [
       "<style>.container { width:100% !important; }</style>"
      ],
      "text/plain": [
       "<IPython.core.display.HTML object>"
      ]
     },
     "execution_count": 3,
     "metadata": {},
     "output_type": "execute_result"
    }
   ],
   "source": [
    "## changing the width of cells\n",
    "from IPython.core.display import HTML\n",
    "HTML(\"<style>.container { width:100% !important; }</style>\")"
   ]
  },
  {
   "cell_type": "markdown",
   "metadata": {},
   "source": [
    "Specify precision"
   ]
  },
  {
   "cell_type": "code",
   "execution_count": 4,
   "metadata": {
    "ExecuteTime": {
     "end_time": "2018-09-14T08:55:08.598104Z",
     "start_time": "2018-09-14T08:55:08.592101Z"
    }
   },
   "outputs": [],
   "source": [
    "floatX = np.float32"
   ]
  },
  {
   "cell_type": "markdown",
   "metadata": {},
   "source": [
    "Open a new Tensorflow session for testing"
   ]
  },
  {
   "cell_type": "code",
   "execution_count": 5,
   "metadata": {
    "ExecuteTime": {
     "end_time": "2018-09-14T08:55:09.571217Z",
     "start_time": "2018-09-14T08:55:08.599101Z"
    }
   },
   "outputs": [],
   "source": [
    "sess = tf.InteractiveSession()\n",
    "sess.run(tf.global_variables_initializer())"
   ]
  },
  {
   "cell_type": "markdown",
   "metadata": {},
   "source": [
    "## Auxilliary methods for working with batches"
   ]
  },
  {
   "cell_type": "code",
   "execution_count": 6,
   "metadata": {
    "ExecuteTime": {
     "end_time": "2018-09-14T08:55:09.575894Z",
     "start_time": "2018-09-14T08:55:09.571217Z"
    }
   },
   "outputs": [],
   "source": [
    "import polys.pi_batches as pib"
   ]
  },
  {
   "cell_type": "code",
   "execution_count": 16,
   "metadata": {
    "ExecuteTime": {
     "end_time": "2018-09-14T08:55:36.665214Z",
     "start_time": "2018-09-14T08:55:36.661162Z"
    },
    "code_folding": []
   },
   "outputs": [],
   "source": [
    "def plot_batched_objects(objs, names = None, subplots_kwargs = {}):\n",
    "    if names is None:\n",
    "        names = [ \"obj_\" + str(i) for i, o in enumerate(objs) ]\n",
    "       \n",
    "    def fun(ii):\n",
    "        print(\"batch_index =\", ii)\n",
    "        fig, axs = pl.subplots(nrows=1, ncols=len(objs), figsize= (5 * len(objs), 5), **subplots_kwargs)\n",
    "        axs = np.array(axs, dtype = np.object)\n",
    "        for name, obj, ax in zip(names, objs, axs.flat):\n",
    "            pl.sca(ax)\n",
    "            ax.set_title(name)\n",
    "            obj.batch[ii].plot()\n",
    "            \n",
    "    pib.interact_along_batch(\n",
    "        batch_shape = pib.get_common_broadcasted_shape([obj.batch_shape for obj in objs]), \n",
    "        display_fun = fun\n",
    "    )"
   ]
  },
  {
   "cell_type": "markdown",
   "metadata": {},
   "source": [
    "# Poly class - simple examples\n",
    "#### 1D example"
   ]
  },
  {
   "cell_type": "code",
   "execution_count": 8,
   "metadata": {
    "ExecuteTime": {
     "end_time": "2018-09-14T08:55:13.136393Z",
     "start_time": "2018-09-14T08:55:13.132379Z"
    }
   },
   "outputs": [
    {
     "data": {
      "text/plain": [
       "Poly( [1 2] )"
      ]
     },
     "execution_count": 8,
     "metadata": {},
     "output_type": "execute_result"
    }
   ],
   "source": [
    "g = Poly(np.array([1, 2]))\n",
    "g"
   ]
  },
  {
   "cell_type": "code",
   "execution_count": 9,
   "metadata": {
    "ExecuteTime": {
     "end_time": "2018-09-14T08:55:13.553390Z",
     "start_time": "2018-09-14T08:55:13.549390Z"
    }
   },
   "outputs": [
    {
     "data": {
      "text/plain": [
       "Poly( [1 4 4] )"
      ]
     },
     "execution_count": 9,
     "metadata": {},
     "output_type": "execute_result"
    }
   ],
   "source": [
    "g * g"
   ]
  },
  {
   "cell_type": "code",
   "execution_count": 10,
   "metadata": {
    "ExecuteTime": {
     "end_time": "2018-09-14T08:55:14.008401Z",
     "start_time": "2018-09-14T08:55:13.989402Z"
    }
   },
   "outputs": [
    {
     "data": {
      "text/plain": [
       "3.0"
      ]
     },
     "execution_count": 10,
     "metadata": {},
     "output_type": "execute_result"
    }
   ],
   "source": [
    "## evaluate `g`\n",
    "t = tf.Variable([1], dtype = floatX)\n",
    "sess.run(t.initializer)\n",
    "\n",
    "sess.run(g(t))"
   ]
  },
  {
   "cell_type": "code",
   "execution_count": 11,
   "metadata": {
    "ExecuteTime": {
     "end_time": "2018-09-14T08:55:14.371410Z",
     "start_time": "2018-09-14T08:55:14.365410Z"
    }
   },
   "outputs": [
    {
     "data": {
      "text/plain": [
       "Poly( [ 1.  0.  1.] )"
      ]
     },
     "execution_count": 11,
     "metadata": {},
     "output_type": "execute_result"
    }
   ],
   "source": [
    "f = Poly(tf.constant([1, 0, 1], dtype = floatX))\n",
    "run_in_session(f)"
   ]
  },
  {
   "cell_type": "code",
   "execution_count": 12,
   "metadata": {
    "ExecuteTime": {
     "end_time": "2018-09-14T08:55:14.823423Z",
     "start_time": "2018-09-14T08:55:14.717420Z"
    },
    "scrolled": true
   },
   "outputs": [
    {
     "data": {
      "text/plain": [
       "[Poly( [ 1.  0.  2.  0.  1.] ),\n",
       " Poly( [ 3.  0.  3.] ),\n",
       " Poly( [ 2.  2.  1.] ),\n",
       " Poly( [ 4.  0.  1.] ),\n",
       " Poly( [ 1.  0.] ),\n",
       " Poly( [ 2.71828175  0.          2.71828175] )]"
      ]
     },
     "execution_count": 12,
     "metadata": {},
     "output_type": "execute_result"
    }
   ],
   "source": [
    "run_in_session([f*f, f*3, f + g, f + 3, f.truncate_degs(2), f.truncated_exp()])"
   ]
  },
  {
   "cell_type": "markdown",
   "metadata": {},
   "source": [
    "#### 2D example"
   ]
  },
  {
   "cell_type": "code",
   "execution_count": 13,
   "metadata": {
    "ExecuteTime": {
     "end_time": "2018-09-14T08:55:15.624712Z",
     "start_time": "2018-09-14T08:55:15.620711Z"
    }
   },
   "outputs": [],
   "source": [
    "# 2D example\n",
    "f = Poly(rnd.randint(-3, 3, size = (10, 1, 6)), batch_ndim=1)\n",
    "g = Poly(rnd.randint(-3, 3, size = (10, 2, 1)), batch_ndim=1)"
   ]
  },
  {
   "cell_type": "code",
   "execution_count": 14,
   "metadata": {
    "ExecuteTime": {
     "end_time": "2018-09-14T08:55:22.387352Z",
     "start_time": "2018-09-14T08:55:22.361352Z"
    }
   },
   "outputs": [
    {
     "data": {
      "application/vnd.jupyter.widget-view+json": {
       "model_id": "bda6a45f49f44175bb8d8cac1acfcef8",
       "version_major": 2,
       "version_minor": 0
      },
      "text/plain": [
       "interactive(children=(IntSlider(value=0, description='i0', max=9), Output()), _dom_classes=('widget-interact',…"
      ]
     },
     "metadata": {},
     "output_type": "display_data"
    }
   ],
   "source": [
    "pib.print_batched_objects(\n",
    "    objs = [f, g, f * g, f + g, (f*g).truncate_degs(2), f.truncated_exp()], \n",
    "    names = [\"f\", \"g\",  \"f * g\", \"f + g\", \"trunc(f*g)\", \"exp(f)\"]\n",
    ")"
   ]
  },
  {
   "cell_type": "code",
   "execution_count": 17,
   "metadata": {
    "ExecuteTime": {
     "end_time": "2018-09-14T08:55:42.542187Z",
     "start_time": "2018-09-14T08:55:42.046020Z"
    }
   },
   "outputs": [
    {
     "data": {
      "application/vnd.jupyter.widget-view+json": {
       "model_id": "efd50c6b597741769eefffa354db11ac",
       "version_major": 2,
       "version_minor": 0
      },
      "text/plain": [
       "interactive(children=(IntSlider(value=0, description='i0', max=9), Output()), _dom_classes=('widget-interact',…"
      ]
     },
     "metadata": {},
     "output_type": "display_data"
    }
   ],
   "source": [
    "plot_batched_objects([f, g, f * g, f + g], names = [\"f\", \"g\",  \"f * g\", \"f + g\"], \n",
    "                     subplots_kwargs={\"sharex\": True, \"sharey\":True})"
   ]
  },
  {
   "cell_type": "markdown",
   "metadata": {},
   "source": [
    "### Evaluation of Poly"
   ]
  },
  {
   "cell_type": "code",
   "execution_count": 18,
   "metadata": {
    "ExecuteTime": {
     "end_time": "2018-09-14T08:56:01.766947Z",
     "start_time": "2018-09-14T08:56:01.756949Z"
    }
   },
   "outputs": [],
   "source": [
    "x = tf.Variable([1, 2], name = \"x\", dtype = floatX)\n",
    "sess.run(x.initializer)"
   ]
  },
  {
   "cell_type": "code",
   "execution_count": 19,
   "metadata": {
    "ExecuteTime": {
     "end_time": "2018-09-14T08:56:03.359148Z",
     "start_time": "2018-09-14T08:56:03.340147Z"
    }
   },
   "outputs": [],
   "source": [
    "## `f` is a batched polynomial, thus to evaluate every one at `x` \n",
    "## we need to add one batch-dimension also to `x`\n",
    "f_x = f(x[None, :])"
   ]
  },
  {
   "cell_type": "code",
   "execution_count": 20,
   "metadata": {
    "ExecuteTime": {
     "end_time": "2018-09-14T08:56:04.608937Z",
     "start_time": "2018-09-14T08:56:04.595937Z"
    }
   },
   "outputs": [
    {
     "data": {
      "text/plain": [
       "array([ -16.,  -69., -118.,   34.,    3.,   97.,  -70.,  -14., -136.,  -19.], dtype=float32)"
      ]
     },
     "execution_count": 20,
     "metadata": {},
     "output_type": "execute_result"
    }
   ],
   "source": [
    "sess.run(f_x)"
   ]
  },
  {
   "cell_type": "markdown",
   "metadata": {},
   "source": [
    "# Other classes: `TaylorGrid`, `PolyMesh`"
   ]
  },
  {
   "cell_type": "markdown",
   "metadata": {},
   "source": [
    "### Gaussian pdf"
   ]
  },
  {
   "cell_type": "markdown",
   "metadata": {},
   "source": [
    "Generate batches of precision matrices `K` and means `mu`. You can choose `n` = 1 or 2."
   ]
  },
  {
   "cell_type": "code",
   "execution_count": 21,
   "metadata": {
    "ExecuteTime": {
     "end_time": "2018-09-14T08:58:02.258559Z",
     "start_time": "2018-09-14T08:58:02.210560Z"
    },
    "code_folding": []
   },
   "outputs": [],
   "source": [
    "n = 1\n",
    "batch_ndim = 1\n",
    "n_samples = 5000\n",
    "\n",
    "def random_K():\n",
    "    scaling = np.diag(rnd.uniform(0, 1 , size = n)) \n",
    "    phi = rnd.uniform(0, 2 * np.pi)\n",
    "    if n == 2:\n",
    "        rotation = np.array([\n",
    "            [np.cos(phi), - np.sin(phi)], \n",
    "            [np.sin(phi), np.cos(phi)]\n",
    "        ])\n",
    "    else:\n",
    "        rotation = np.array([[1]])\n",
    "    return rotation @ scaling @ rotation.T\n",
    "        \n",
    "K = np.array([random_K() for i in range(n_samples)]).astype(floatX)\n",
    "\n",
    "mu = rnd.randint(-1, 2, size = (n_samples, n)).astype(floatX)\n",
    "params = [np.linspace(-4, 4, 20)]*n"
   ]
  },
  {
   "cell_type": "markdown",
   "metadata": {},
   "source": [
    "If you wish, change them to Tensorflow objects"
   ]
  },
  {
   "cell_type": "code",
   "execution_count": 23,
   "metadata": {
    "ExecuteTime": {
     "end_time": "2018-09-14T08:58:13.009234Z",
     "start_time": "2018-09-14T08:58:12.987233Z"
    }
   },
   "outputs": [
    {
     "data": {
      "text/plain": [
       "[None, None]"
      ]
     },
     "execution_count": 23,
     "metadata": {},
     "output_type": "execute_result"
    }
   ],
   "source": [
    "K = tf.Variable(K)\n",
    "mu = tf.Variable(mu)\n",
    "\n",
    "sess.run([K.initializer, mu.initializer])"
   ]
  },
  {
   "cell_type": "markdown",
   "metadata": {},
   "source": [
    "Construct TaylorGrid taylors of Gauss PDF and the coresponding spline PolyMesh approximation"
   ]
  },
  {
   "cell_type": "code",
   "execution_count": 24,
   "metadata": {
    "ExecuteTime": {
     "end_time": "2018-09-14T08:58:25.681815Z",
     "start_time": "2018-09-14T08:58:25.553876Z"
    },
    "scrolled": false
   },
   "outputs": [],
   "source": [
    "tg = TaylorGrid.from_Gauss_pdf(params, mu, K, batch_ndim, var_ndim= n)\n",
    "spline0 = tg.get_spline()"
   ]
  },
  {
   "cell_type": "code",
   "execution_count": 25,
   "metadata": {
    "ExecuteTime": {
     "end_time": "2018-09-14T08:58:26.951460Z",
     "start_time": "2018-09-14T08:58:26.410001Z"
    }
   },
   "outputs": [],
   "source": [
    "spline = run_in_session(spline0)"
   ]
  },
  {
   "cell_type": "code",
   "execution_count": 26,
   "metadata": {
    "ExecuteTime": {
     "end_time": "2018-09-14T08:58:27.539167Z",
     "start_time": "2018-09-14T08:58:27.532168Z"
    },
    "scrolled": true
   },
   "outputs": [
    {
     "data": {
      "text/plain": [
       "array([ 0.99728626,  0.38117948,  0.98908538, ...,  0.30544677,\n",
       "        0.99781519,  0.73608273], dtype=float32)"
      ]
     },
     "execution_count": 26,
     "metadata": {},
     "output_type": "execute_result"
    }
   ],
   "source": [
    "spline.integrate()"
   ]
  },
  {
   "cell_type": "code",
   "execution_count": 27,
   "metadata": {
    "ExecuteTime": {
     "end_time": "2018-09-14T08:58:28.439689Z",
     "start_time": "2018-09-14T08:58:28.385686Z"
    }
   },
   "outputs": [
    {
     "data": {
      "text/plain": [
       "array([ 0.99728614,  0.38117951,  0.98908532, ...,  0.30544686,\n",
       "        0.99781507,  0.73608273], dtype=float32)"
      ]
     },
     "execution_count": 27,
     "metadata": {},
     "output_type": "execute_result"
    }
   ],
   "source": [
    "run_in_session(tg.integrate_spline())"
   ]
  },
  {
   "cell_type": "code",
   "execution_count": 28,
   "metadata": {
    "ExecuteTime": {
     "end_time": "2018-09-14T08:58:29.145326Z",
     "start_time": "2018-09-14T08:58:29.098325Z"
    }
   },
   "outputs": [
    {
     "data": {
      "text/plain": [
       "array([ 0.99728614,  0.38117942,  0.98908538, ...,  0.3054468 ,\n",
       "        0.99781519,  0.73608261], dtype=float32)"
      ]
     },
     "execution_count": 28,
     "metadata": {},
     "output_type": "execute_result"
    }
   ],
   "source": [
    "run_in_session(spline0.integrate())"
   ]
  },
  {
   "cell_type": "code",
   "execution_count": 29,
   "metadata": {
    "ExecuteTime": {
     "end_time": "2018-09-14T08:58:42.108479Z",
     "start_time": "2018-09-14T08:58:29.817653Z"
    }
   },
   "outputs": [
    {
     "name": "stdout",
     "output_type": "stream",
     "text": [
      "1.51 ms ± 12.9 µs per loop (mean ± std. dev. of 7 runs, 1000 loops each)\n"
     ]
    }
   ],
   "source": [
    "%timeit run_in_session(spline0)"
   ]
  },
  {
   "cell_type": "code",
   "execution_count": 30,
   "metadata": {
    "ExecuteTime": {
     "end_time": "2018-09-14T08:58:43.602635Z",
     "start_time": "2018-09-14T08:58:43.561636Z"
    }
   },
   "outputs": [],
   "source": [
    "I1 = spline0.integrate()\n",
    "I2 = tg.integrate_spline()"
   ]
  },
  {
   "cell_type": "code",
   "execution_count": 31,
   "metadata": {
    "ExecuteTime": {
     "end_time": "2018-09-14T08:58:55.885622Z",
     "start_time": "2018-09-14T08:58:44.779838Z"
    }
   },
   "outputs": [
    {
     "name": "stdout",
     "output_type": "stream",
     "text": [
      "1.36 ms ± 14.1 µs per loop (mean ± std. dev. of 7 runs, 1000 loops each)\n"
     ]
    }
   ],
   "source": [
    "%timeit run_in_session(I1)"
   ]
  },
  {
   "cell_type": "code",
   "execution_count": 32,
   "metadata": {
    "ExecuteTime": {
     "end_time": "2018-09-14T08:59:09.714952Z",
     "start_time": "2018-09-14T08:58:59.188062Z"
    }
   },
   "outputs": [
    {
     "name": "stdout",
     "output_type": "stream",
     "text": [
      "1.29 ms ± 26.4 µs per loop (mean ± std. dev. of 7 runs, 1000 loops each)\n"
     ]
    }
   ],
   "source": [
    "%timeit run_in_session(I2)"
   ]
  },
  {
   "cell_type": "markdown",
   "metadata": {},
   "source": [
    "See the graphs of genuine PDF, our approximation and the approximation using Interpolators "
   ]
  },
  {
   "cell_type": "code",
   "execution_count": 33,
   "metadata": {
    "ExecuteTime": {
     "end_time": "2018-09-14T08:59:16.436879Z",
     "start_time": "2018-09-14T08:59:16.424879Z"
    }
   },
   "outputs": [
    {
     "ename": "ModuleNotFoundError",
     "evalue": "No module named 'interpolators_03'",
     "output_type": "error",
     "traceback": [
      "\u001b[1;31m---------------------------------------------------------------------------\u001b[0m",
      "\u001b[1;31mModuleNotFoundError\u001b[0m                       Traceback (most recent call last)",
      "\u001b[1;32m<ipython-input-33-557718be5d0b>\u001b[0m in \u001b[0;36m<module>\u001b[1;34m()\u001b[0m\n\u001b[1;32m----> 1\u001b[1;33m \u001b[1;32mimport\u001b[0m \u001b[0minterpolators_03\u001b[0m \u001b[1;32mas\u001b[0m \u001b[0minterpolators\u001b[0m\u001b[1;33m\u001b[0m\u001b[0m\n\u001b[0m",
      "\u001b[1;31mModuleNotFoundError\u001b[0m: No module named 'interpolators_03'"
     ]
    }
   ],
   "source": [
    "import interpolators_03 as interpolators"
   ]
  },
  {
   "cell_type": "code",
   "execution_count": 34,
   "metadata": {
    "ExecuteTime": {
     "end_time": "2018-09-14T09:02:36.501308Z",
     "start_time": "2018-09-14T09:02:36.463308Z"
    },
    "code_folding": []
   },
   "outputs": [
    {
     "data": {
      "application/vnd.jupyter.widget-view+json": {
       "model_id": "fe09457d834c444bba1af3c5c719f282",
       "version_major": 2,
       "version_minor": 0
      },
      "text/plain": [
       "interactive(children=(IntSlider(value=0, description='i0', max=4999), Output()), _dom_classes=('widget-interac…"
      ]
     },
     "metadata": {},
     "output_type": "display_data"
    }
   ],
   "source": [
    "# if 2D use this visualization\n",
    "def fun(ii):\n",
    "    assert spline.var_ndim == 2, \"This visualization works only in 2D case.\"\n",
    "    f = spline.batch[ii]\n",
    "    \n",
    "    mu_val, K_val = run_in_session([mu, K])\n",
    "    print(\"mu =\" , mu_val[ii])\n",
    "    print(\"K =\" , K_val[ii])\n",
    "    f0 = st.multivariate_normal(mean = mu_val[ii], cov = la.inv(K_val[ii])).pdf\n",
    "\n",
    "    g = interpolators.Interpolator.from_fun(params, f0)\n",
    "\n",
    "    xxx, yyy = [np.linspace(par[0], par[-1], 100) for par in params]\n",
    "\n",
    "    fig, axs = pl.subplots(1, 3, figsize = [15, 4])\n",
    "    for ax in axs:\n",
    "        ax.set_aspect(\"equal\")\n",
    "\n",
    "    levels = None\n",
    "    for fun, title, ax  in zip([g, f, f0], [\"Catmull-Rom\", \"PolyMesh cubic spline\", \"genuine Gauss\"], axs):\n",
    "        pl.sca(ax)\n",
    "        fff = np.array([[ fun([x,y]) for y in yyy ] for x in xxx]).T\n",
    "        print(title, \"minimum is\", fff.min(), type(fun) )\n",
    "        cp = pl.contour( xxx, yyy, fff, \n",
    "            cmap=pl.cm.rainbow,\n",
    "            levels = levels\n",
    "        )\n",
    "        pl.clabel(cp)\n",
    "\n",
    "        pl.scatter(*zip(*itt.product(*params)), marker = \"+\")\n",
    "\n",
    "        ax.set_title(title)\n",
    "\n",
    "        levels = cp.levels\n",
    "        \n",
    "pib.interact_along_batch(spline.batch_shape, fun )"
   ]
  },
  {
   "cell_type": "code",
   "execution_count": 35,
   "metadata": {
    "ExecuteTime": {
     "end_time": "2018-09-14T09:02:37.429194Z",
     "start_time": "2018-09-14T09:02:37.390196Z"
    },
    "code_folding": []
   },
   "outputs": [
    {
     "data": {
      "application/vnd.jupyter.widget-view+json": {
       "model_id": "611841a19082407f8d2b5fd8b6ff7033",
       "version_major": 2,
       "version_minor": 0
      },
      "text/plain": [
       "interactive(children=(IntSlider(value=0, description='i0', max=4999), Output()), _dom_classes=('widget-interac…"
      ]
     },
     "metadata": {},
     "output_type": "display_data"
    }
   ],
   "source": [
    "# if 1D use this visualization\n",
    "def fun(ii):\n",
    "    assert spline.var_ndim == 1, \"This visualization works only in 1D case.\"\n",
    "    \n",
    "    f = spline.batch[ii]\n",
    "    \n",
    "    mu_val, K_val = run_in_session([mu, K])\n",
    "    print(\"mu =\" , mu_val[ii])\n",
    "    print(\"K =\" , K_val[ii])\n",
    "    f0 = st.multivariate_normal(mean = mu_val[ii], cov = la.inv(K_val[ii])).pdf\n",
    "    g = interpolators.Interpolator.from_fun(params, f0)\n",
    "    \n",
    "    par = params[0]\n",
    "    xxx = np.linspace(par[0], par[-1], 100)\n",
    "    for fun, title in zip([g, f, f0], [\"Catmull-Rom\", \"PolyMesh cubic spline\", \"genuine Gauss\"]):\n",
    "        yyy = [fun([x]) for x in xxx]\n",
    "        pl.plot(xxx, yyy, label = title)\n",
    "    \n",
    "    pl.legend(fontsize = 'xx-small')\n",
    "    \n",
    "pib.interact_along_batch(spline.batch_shape, fun )"
   ]
  },
  {
   "cell_type": "code",
   "execution_count": null,
   "metadata": {},
   "outputs": [],
   "source": []
  },
  {
   "cell_type": "markdown",
   "metadata": {},
   "source": [
    "### Splines from given Taylors at grid points"
   ]
  },
  {
   "cell_type": "markdown",
   "metadata": {},
   "source": [
    "A polynomial of high order that we approximate by a spline"
   ]
  },
  {
   "cell_type": "code",
   "execution_count": 36,
   "metadata": {
    "ExecuteTime": {
     "end_time": "2018-09-14T09:02:59.312291Z",
     "start_time": "2018-09-14T09:02:59.309244Z"
    }
   },
   "outputs": [],
   "source": [
    "f = Poly(np.array([1, -1, 4, 0,0, -3], dtype = floatX))"
   ]
  },
  {
   "cell_type": "code",
   "execution_count": 37,
   "metadata": {
    "ExecuteTime": {
     "end_time": "2018-09-14T09:03:00.265101Z",
     "start_time": "2018-09-14T09:03:00.022396Z"
    }
   },
   "outputs": [
    {
     "data": {
      "application/vnd.jupyter.widget-view+json": {
       "model_id": "2b676d624afb40338f7728f3c45c0188",
       "version_major": 2,
       "version_minor": 0
      },
      "text/plain": [
       "interactive(children=(Output(),), _dom_classes=('widget-interact',))"
      ]
     },
     "metadata": {},
     "output_type": "display_data"
    }
   ],
   "source": [
    "params = [np.array([0, 0.2, .5, 1], dtype=floatX)]\n",
    "tg_f = f.get_Taylor_grid(params, truncs = 2)\n",
    "spline_f = tg_f.get_spline()\n",
    "plot_batched_objects(\n",
    "    objs = [f, tg_f, spline_f], \n",
    "    names = [\"original poly\", \"truncated Taylors at grid\", \"spline reconstruction\"],\n",
    "    subplots_kwargs={\"sharex\": True, \"sharey\":True}\n",
    ")"
   ]
  },
  {
   "cell_type": "code",
   "execution_count": null,
   "metadata": {},
   "outputs": [],
   "source": []
  },
  {
   "cell_type": "markdown",
   "metadata": {},
   "source": [
    "### Evaluation of MeshGrid at TF points"
   ]
  },
  {
   "cell_type": "code",
   "execution_count": 38,
   "metadata": {
    "ExecuteTime": {
     "end_time": "2018-09-14T09:03:21.721530Z",
     "start_time": "2018-09-14T09:03:21.717529Z"
    }
   },
   "outputs": [
    {
     "data": {
      "text/plain": [
       "-1.6579999999999995"
      ]
     },
     "execution_count": 38,
     "metadata": {},
     "output_type": "execute_result"
    }
   ],
   "source": [
    "spline_f(np.array([1.2]))"
   ]
  },
  {
   "cell_type": "code",
   "execution_count": 39,
   "metadata": {
    "ExecuteTime": {
     "end_time": "2018-09-14T09:03:22.457253Z",
     "start_time": "2018-09-14T09:03:22.453253Z"
    }
   },
   "outputs": [
    {
     "data": {
      "text/plain": [
       "<tf.Variable 'Variable:0' shape=(1,) dtype=float32_ref>"
      ]
     },
     "execution_count": 39,
     "metadata": {},
     "output_type": "execute_result"
    }
   ],
   "source": [
    "t"
   ]
  },
  {
   "cell_type": "code",
   "execution_count": 40,
   "metadata": {
    "ExecuteTime": {
     "end_time": "2018-09-14T09:03:23.196250Z",
     "start_time": "2018-09-14T09:03:23.141248Z"
    }
   },
   "outputs": [
    {
     "data": {
      "text/plain": [
       "-1.6580007"
      ]
     },
     "execution_count": 40,
     "metadata": {},
     "output_type": "execute_result"
    }
   ],
   "source": [
    "sess.run(\n",
    "    spline_f(t), {t: [1.2]}\n",
    ")"
   ]
  },
  {
   "cell_type": "markdown",
   "metadata": {},
   "source": [
    "### Catmull-Rom splines"
   ]
  },
  {
   "cell_type": "markdown",
   "metadata": {},
   "source": [
    "#### Example CR-01"
   ]
  },
  {
   "cell_type": "code",
   "execution_count": 41,
   "metadata": {
    "ExecuteTime": {
     "end_time": "2018-09-14T09:03:25.260740Z",
     "start_time": "2018-09-14T09:03:25.228740Z"
    }
   },
   "outputs": [],
   "source": [
    "xx = np.array([1, 2, 3, 4, 5])\n",
    "\n",
    "yy = tf.Variable([[1, 2, 0, 1, 1]], dtype=floatX, validate_shape=False)\n",
    "yy.set_shape([None, len(xx)])\n",
    "\n",
    "taylors = TaylorGrid.from_Catmull_Rom(yy, params = [xx], batch_ndim=1)\n",
    "spline = taylors.get_spline()"
   ]
  },
  {
   "cell_type": "code",
   "execution_count": 42,
   "metadata": {
    "ExecuteTime": {
     "end_time": "2018-09-14T09:03:26.061117Z",
     "start_time": "2018-09-14T09:03:26.029116Z"
    }
   },
   "outputs": [],
   "source": [
    "sess.run(tf.global_variables_initializer())\n",
    "\n",
    "taylors_val, spline_val, yy_val = run_in_session(\n",
    "    [taylors, spline, yy],\n",
    "    feed_dict = {\n",
    "        yy: rnd.randint(10, size = [10, len(xx)]).astype(floatX)\n",
    "    }\n",
    ")"
   ]
  },
  {
   "cell_type": "code",
   "execution_count": 43,
   "metadata": {
    "ExecuteTime": {
     "end_time": "2018-09-14T09:03:26.999069Z",
     "start_time": "2018-09-14T09:03:26.861254Z"
    }
   },
   "outputs": [
    {
     "data": {
      "application/vnd.jupyter.widget-view+json": {
       "model_id": "af67957f45514a54847c4ea01719fbbe",
       "version_major": 2,
       "version_minor": 0
      },
      "text/plain": [
       "interactive(children=(IntSlider(value=0, description='i0', max=9), Output()), _dom_classes=('widget-interact',…"
      ]
     },
     "metadata": {},
     "output_type": "display_data"
    }
   ],
   "source": [
    "def fun(iii):\n",
    "    taylors_val.batch[iii].plot(c = \"g\")\n",
    "    pl.scatter(xx, yy_val[iii])\n",
    "    spline_val.batch[iii].plot(c = \"b\")\n",
    "    \n",
    "\n",
    "pib.interact_along_batch(batch_shape=spline_val.batch_shape, display_fun=fun)"
   ]
  },
  {
   "cell_type": "markdown",
   "metadata": {},
   "source": [
    "#### Example CR-02"
   ]
  },
  {
   "cell_type": "code",
   "execution_count": 44,
   "metadata": {
    "ExecuteTime": {
     "end_time": "2018-09-14T09:03:59.990324Z",
     "start_time": "2018-09-14T09:03:59.980324Z"
    }
   },
   "outputs": [
    {
     "ename": "NameError",
     "evalue": "name 'polys' is not defined",
     "output_type": "error",
     "traceback": [
      "\u001b[1;31m---------------------------------------------------------------------------\u001b[0m",
      "\u001b[1;31mNameError\u001b[0m                                 Traceback (most recent call last)",
      "\u001b[1;32m<ipython-input-44-040fe1525920>\u001b[0m in \u001b[0;36m<module>\u001b[1;34m()\u001b[0m\n\u001b[1;32m----> 1\u001b[1;33m \u001b[0mreload\u001b[0m\u001b[1;33m(\u001b[0m\u001b[0mpolys\u001b[0m\u001b[1;33m)\u001b[0m\u001b[1;33m\u001b[0m\u001b[0m\n\u001b[0m\u001b[0;32m      2\u001b[0m \u001b[1;32mfrom\u001b[0m \u001b[0mpolys_05\u001b[0m \u001b[1;32mimport\u001b[0m \u001b[0mPoly\u001b[0m\u001b[1;33m\u001b[0m\u001b[0m\n",
      "\u001b[1;31mNameError\u001b[0m: name 'polys' is not defined"
     ]
    }
   ],
   "source": [
    "reload(polys)\n",
    "from polys_05 import Poly"
   ]
  },
  {
   "cell_type": "code",
   "execution_count": 45,
   "metadata": {
    "ExecuteTime": {
     "end_time": "2018-09-14T09:04:01.745711Z",
     "start_time": "2018-09-14T09:04:01.132464Z"
    }
   },
   "outputs": [
    {
     "data": {
      "text/plain": [
       "<matplotlib.legend.Legend at 0x1ffb3af9cf8>"
      ]
     },
     "execution_count": 45,
     "metadata": {},
     "output_type": "execute_result"
    },
    {
     "data": {
      "image/png": "[encoded data removed]",
      "text/plain": [
       "<Figure size 720x504 with 4 Axes>"
      ]
     },
     "metadata": {},
     "output_type": "display_data"
    }
   ],
   "source": [
    "fig, axs = pl.subplots(2, 2, figsize = [10, 7])\n",
    "axs = axs.flat\n",
    "\n",
    "ax = axs[0]\n",
    "pl.sca(ax)\n",
    "ax.set_title(\"Spline approximation to a polynomial\")\n",
    "\n",
    "f = Poly(np.array([3, -1, 1, 0, -0.1]))\n",
    "\n",
    "pg = f.get_Taylor_grid([[-1, 1, 2, 3]], truncs = 4)\n",
    "a, b = pg.params[0][0], pg.params[0][-1]\n",
    "f.plot([a], [b], c = \"b\", label= \"original polynomial $f$\")\n",
    "\n",
    "pg.plot(c = \"g\")\n",
    "\n",
    "pm = pg.get_spline()\n",
    "pm.plot(c = \"r\", label = \"spline approximation\")\n",
    "\n",
    "ax.legend()\n",
    "\n",
    "## exponential\n",
    "ax = axs[1]\n",
    "pl.sca(ax)\n",
    "ax.set_title(\"Spline approximation to $exp(f)$\")\n",
    "\n",
    "xxx = np.linspace(a, b, 100)\n",
    "yyy = np.exp(f.batch[None](xxx[:, None]))\n",
    "pl.plot(xxx, yyy, c = \"b\", label= \"$exp(f)$\")\n",
    "\n",
    "pg.truncated_exp().plot(c = \"g\")\n",
    "\n",
    "pg.truncated_exp().get_spline().plot(c = \"r\", label = \"spline approximation\")\n",
    "ax.legend()\n",
    "\n",
    "## inverse\n",
    "ax = axs[2]\n",
    "pl.sca(ax)\n",
    "ax.set_title(\"Spline approximation to $ 1 / f$\")\n",
    "\n",
    "xxx = np.linspace(a, b, 100)\n",
    "yyy = 1 / (f.batch[None](xxx[:, None]))\n",
    "pl.plot(xxx, yyy, c = \"b\", label= \"$1/f$\")\n",
    "\n",
    "(1 / pg).plot(c = \"g\")\n",
    "\n",
    "(1 / pg).get_spline().plot(c = \"r\", label = \"spline approximation\")\n",
    "ax.legend(loc = 4)\n",
    "\n"
   ]
  },
  {
   "cell_type": "markdown",
   "metadata": {},
   "source": [
    "#### Example CR-03"
   ]
  },
  {
   "cell_type": "markdown",
   "metadata": {},
   "source": [
    "Original polynomial (class `Poly`)"
   ]
  },
  {
   "cell_type": "code",
   "execution_count": 46,
   "metadata": {
    "ExecuteTime": {
     "end_time": "2018-09-14T09:04:22.374441Z",
     "start_time": "2018-09-14T09:04:22.228888Z"
    }
   },
   "outputs": [
    {
     "data": {
      "image/png": "[encoded data removed]",
      "text/plain": [
       "<Figure size 432x288 with 1 Axes>"
      ]
     },
     "metadata": {},
     "output_type": "display_data"
    }
   ],
   "source": [
    "f = Poly(\n",
    "    np.array([\n",
    "        [1, 0, 1],\n",
    "        [0, 0, 0],\n",
    "        [1, 0, 0],\n",
    "    ], dtype = floatX)\n",
    ")\n",
    "f([0.1, 0.2])\n",
    "f.plot([-1,-1], [1, 1])"
   ]
  },
  {
   "cell_type": "markdown",
   "metadata": {},
   "source": [
    "Its Taylor polynomials at specified grid points (class `TaylorGrid`)"
   ]
  },
  {
   "cell_type": "code",
   "execution_count": 47,
   "metadata": {
    "ExecuteTime": {
     "end_time": "2018-09-14T09:04:25.933445Z",
     "start_time": "2018-09-14T09:04:25.373639Z"
    }
   },
   "outputs": [
    {
     "data": {
      "image/png": "[encoded data removed]",
      "text/plain": [
       "<Figure size 432x288 with 1 Axes>"
      ]
     },
     "metadata": {},
     "output_type": "display_data"
    }
   ],
   "source": [
    "pg = f.get_Taylor_grid([[-1, -1/3, 1/3, 1], [-1, 0, 1]], truncs = 2)\n",
    "pg.plot()\n",
    "#f.plot([par[0] for par in pg.params], [par[-1] for par in pg.params])"
   ]
  },
  {
   "cell_type": "markdown",
   "metadata": {},
   "source": [
    "Spline reconstruction (class `PolyMesh`)"
   ]
  },
  {
   "cell_type": "code",
   "execution_count": 48,
   "metadata": {
    "ExecuteTime": {
     "end_time": "2018-09-14T09:04:29.126125Z",
     "start_time": "2018-09-14T09:04:28.795458Z"
    }
   },
   "outputs": [
    {
     "data": {
      "image/png": "[encoded data removed]",
      "text/plain": [
       "<Figure size 432x288 with 1 Axes>"
      ]
     },
     "metadata": {},
     "output_type": "display_data"
    }
   ],
   "source": [
    "pm = pg.get_spline()\n",
    "pm.plot()\n",
    "#pm.contour_plot(levels = np.linspace(-1, 1, 15))"
   ]
  },
  {
   "cell_type": "markdown",
   "metadata": {},
   "source": [
    "## `PolyMesh` operations"
   ]
  },
  {
   "cell_type": "code",
   "execution_count": 51,
   "metadata": {
    "ExecuteTime": {
     "end_time": "2018-09-14T09:04:51.001124Z",
     "start_time": "2018-09-14T09:04:50.836595Z"
    }
   },
   "outputs": [
    {
     "data": {
      "image/png": "[encoded data removed]",
      "text/plain": [
       "<Figure size 432x288 with 1 Axes>"
      ]
     },
     "metadata": {},
     "output_type": "display_data"
    }
   ],
   "source": [
    "xx = np.array([-1, 1, 1.5, 3, 4])\n",
    "\n",
    "f_tg, g_tg = [\n",
    "    TaylorGrid.from_Catmull_Rom(\n",
    "        coef = rnd.randint(10, size = [len(xx)]).astype(floatX), \n",
    "        params = [xx], \n",
    "    )\n",
    "    for i in range(2)\n",
    "]\n",
    "\n",
    "f_pm, g_pm = [tg.get_spline() for tg in [f_tg, g_tg]]\n",
    "\n",
    "#fig, axs = pl.subplots(1, 2, figsize = [10, 4])\n",
    "\n",
    "f_pm.plot(c = \"g\")\n",
    "f_tg.plot(c = \"g\")\n",
    "g_pm.plot(c = \"b\")\n",
    "g_tg.plot(c = \"b\")\n"
   ]
  },
  {
   "cell_type": "code",
   "execution_count": 52,
   "metadata": {
    "ExecuteTime": {
     "end_time": "2018-09-14T09:04:53.803078Z",
     "start_time": "2018-09-14T09:04:53.701308Z"
    }
   },
   "outputs": [
    {
     "data": {
      "image/png": "[encoded data removed]",
      "text/plain": [
       "<Figure size 432x288 with 1 Axes>"
      ]
     },
     "metadata": {},
     "output_type": "display_data"
    }
   ],
   "source": [
    "f_pm.der().plot()"
   ]
  },
  {
   "cell_type": "code",
   "execution_count": 53,
   "metadata": {
    "ExecuteTime": {
     "end_time": "2018-09-14T09:04:54.938280Z",
     "start_time": "2018-09-14T09:04:54.740411Z"
    }
   },
   "outputs": [
    {
     "data": {
      "image/png": "[encoded data removed]",
      "text/plain": [
       "<Figure size 432x288 with 1 Axes>"
      ]
     },
     "metadata": {},
     "output_type": "display_data"
    }
   ],
   "source": [
    "f_pm.der().der().plot()"
   ]
  },
  {
   "cell_type": "code",
   "execution_count": 54,
   "metadata": {
    "ExecuteTime": {
     "end_time": "2018-09-14T09:04:56.085805Z",
     "start_time": "2018-09-14T09:04:55.987689Z"
    }
   },
   "outputs": [
    {
     "data": {
      "image/png": "[encoded data removed]",
      "text/plain": [
       "<Figure size 432x288 with 1 Axes>"
      ]
     },
     "metadata": {},
     "output_type": "display_data"
    }
   ],
   "source": [
    "f_pm.der().der().der().plot()"
   ]
  },
  {
   "cell_type": "code",
   "execution_count": 55,
   "metadata": {
    "ExecuteTime": {
     "end_time": "2018-09-14T09:04:58.504800Z",
     "start_time": "2018-09-14T09:04:58.388085Z"
    }
   },
   "outputs": [
    {
     "data": {
      "image/png": "[encoded data removed]",
      "text/plain": [
       "<Figure size 432x288 with 1 Axes>"
      ]
     },
     "metadata": {},
     "output_type": "display_data"
    }
   ],
   "source": [
    "(f_pm + g_pm).plot()\n",
    "(f_tg + g_tg).plot()"
   ]
  },
  {
   "cell_type": "code",
   "execution_count": 56,
   "metadata": {
    "ExecuteTime": {
     "end_time": "2018-09-14T09:04:59.210329Z",
     "start_time": "2018-09-14T09:04:59.084001Z"
    }
   },
   "outputs": [
    {
     "data": {
      "image/png": "[encoded data removed]",
      "text/plain": [
       "<Figure size 432x288 with 1 Axes>"
      ]
     },
     "metadata": {},
     "output_type": "display_data"
    }
   ],
   "source": [
    "(f_pm * g_pm).plot()\n",
    "(f_tg * g_tg).plot()"
   ]
  },
  {
   "cell_type": "code",
   "execution_count": 57,
   "metadata": {
    "ExecuteTime": {
     "end_time": "2018-09-14T09:04:59.896963Z",
     "start_time": "2018-09-14T09:04:59.779868Z"
    }
   },
   "outputs": [
    {
     "data": {
      "image/png": "[encoded data removed]",
      "text/plain": [
       "<Figure size 432x288 with 1 Axes>"
      ]
     },
     "metadata": {},
     "output_type": "display_data"
    }
   ],
   "source": [
    "(f_pm - g_pm /2).plot()\n",
    "(f_tg - g_tg /2).plot()"
   ]
  },
  {
   "cell_type": "markdown",
   "metadata": {},
   "source": [
    "#### Test derivatives\n",
    "Derivative of $x^2$ represented as `PolyMesh`."
   ]
  },
  {
   "cell_type": "code",
   "execution_count": 58,
   "metadata": {
    "ExecuteTime": {
     "end_time": "2018-09-14T09:05:01.215341Z",
     "start_time": "2018-09-14T09:05:01.211342Z"
    }
   },
   "outputs": [],
   "source": [
    "p = Poly(np.array([0, 0, 1], dtype = floatX))\n",
    "h_tg = p.get_Taylor_grid(params = [xx], truncs = 2)"
   ]
  },
  {
   "cell_type": "code",
   "execution_count": 59,
   "metadata": {
    "ExecuteTime": {
     "end_time": "2018-09-14T09:05:02.199877Z",
     "start_time": "2018-09-14T09:05:02.195716Z"
    }
   },
   "outputs": [],
   "source": [
    "h_pm = h_tg.get_spline()"
   ]
  },
  {
   "cell_type": "code",
   "execution_count": 60,
   "metadata": {
    "ExecuteTime": {
     "end_time": "2018-09-14T09:05:02.844098Z",
     "start_time": "2018-09-14T09:05:02.715745Z"
    }
   },
   "outputs": [
    {
     "data": {
      "image/png": "[encoded data removed]",
      "text/plain": [
       "<Figure size 432x288 with 1 Axes>"
      ]
     },
     "metadata": {},
     "output_type": "display_data"
    }
   ],
   "source": [
    "h_pm.plot()\n",
    "h_tg.plot()"
   ]
  },
  {
   "cell_type": "code",
   "execution_count": 61,
   "metadata": {
    "ExecuteTime": {
     "end_time": "2018-09-14T09:05:03.478864Z",
     "start_time": "2018-09-14T09:05:03.379114Z"
    }
   },
   "outputs": [
    {
     "data": {
      "image/png": "[encoded data removed]",
      "text/plain": [
       "<Figure size 432x288 with 1 Axes>"
      ]
     },
     "metadata": {},
     "output_type": "display_data"
    }
   ],
   "source": [
    "h_pm.der().plot()"
   ]
  },
  {
   "cell_type": "code",
   "execution_count": 62,
   "metadata": {
    "ExecuteTime": {
     "end_time": "2018-09-14T09:05:04.254389Z",
     "start_time": "2018-09-14T09:05:04.156127Z"
    }
   },
   "outputs": [
    {
     "data": {
      "image/png": "[encoded data removed]",
      "text/plain": [
       "<Figure size 432x288 with 1 Axes>"
      ]
     },
     "metadata": {},
     "output_type": "display_data"
    }
   ],
   "source": [
    "x_pm = h_pm.der() / 2\n",
    "x_pm.plot()"
   ]
  },
  {
   "cell_type": "code",
   "execution_count": 63,
   "metadata": {
    "ExecuteTime": {
     "end_time": "2018-09-14T09:05:04.995237Z",
     "start_time": "2018-09-14T09:05:04.891704Z"
    }
   },
   "outputs": [
    {
     "data": {
      "image/png": "[encoded data removed]",
      "text/plain": [
       "<Figure size 432x288 with 1 Axes>"
      ]
     },
     "metadata": {},
     "output_type": "display_data"
    }
   ],
   "source": [
    "(x_pm * x_pm* x_pm).plot()"
   ]
  },
  {
   "cell_type": "code",
   "execution_count": 64,
   "metadata": {
    "ExecuteTime": {
     "end_time": "2018-09-14T09:05:05.848917Z",
     "start_time": "2018-09-14T09:05:05.747807Z"
    }
   },
   "outputs": [
    {
     "data": {
      "image/png": "[encoded data removed]",
      "text/plain": [
       "<Figure size 432x288 with 1 Axes>"
      ]
     },
     "metadata": {},
     "output_type": "display_data"
    }
   ],
   "source": [
    "(x_pm ** 3).plot()"
   ]
  },
  {
   "cell_type": "code",
   "execution_count": null,
   "metadata": {},
   "outputs": [],
   "source": []
  },
  {
   "cell_type": "code",
   "execution_count": null,
   "metadata": {},
   "outputs": [],
   "source": []
  }
 ],
 "metadata": {
  "kernelspec": {
   "display_name": "Python 3",
   "language": "python",
   "name": "python3"
  },
  "language_info": {
   "codemirror_mode": {
    "name": "ipython",
    "version": 3
   },
   "file_extension": ".py",
   "mimetype": "text/x-python",
   "name": "python",
   "nbconvert_exporter": "python",
   "pygments_lexer": "ipython3",
   "version": "3.6.5"
  },
  "toc": {
   "base_numbering": 1,
   "nav_menu": {
    "height": "265px",
    "width": "252px"
   },
   "number_sections": true,
   "sideBar": true,
   "skip_h1_title": false,
   "title_cell": "Table of Contents",
   "title_sidebar": "Contents",
   "toc_cell": false,
   "toc_position": {},
   "toc_section_display": "block",
   "toc_window_display": false
  }
 },
 "nbformat": 4,
 "nbformat_minor": 1
}
